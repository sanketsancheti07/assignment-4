{
 "cells": [
  {
   "cell_type": "markdown",
   "id": "5db6ece2-acba-4ec0-ad56-74f592105e96",
   "metadata": {},
   "source": [
    "Q.1"
   ]
  },
  {
   "cell_type": "raw",
   "id": "20ced745-26ef-4dcc-9335-fa7a4768e757",
   "metadata": {},
   "source": [
    "we use def keyword to create a function"
   ]
  },
  {
   "cell_type": "code",
   "execution_count": 7,
   "id": "3c0a3ed1-ba33-476f-a3fc-d0ef73d0f472",
   "metadata": {},
   "outputs": [],
   "source": [
    "def odd():\n",
    "    l =[]\n",
    "    for i in range(1,26):\n",
    "        if i%2 != 0:\n",
    "            l.append(i)\n",
    "    return l\n",
    "        "
   ]
  },
  {
   "cell_type": "code",
   "execution_count": 8,
   "id": "b0b73faa-ac3b-4a1b-b2c6-80737065c924",
   "metadata": {},
   "outputs": [
    {
     "data": {
      "text/plain": [
       "[1, 3, 5, 7, 9, 11, 13, 15, 17, 19, 21, 23, 25]"
      ]
     },
     "execution_count": 8,
     "metadata": {},
     "output_type": "execute_result"
    }
   ],
   "source": [
    "odd()"
   ]
  },
  {
   "cell_type": "markdown",
   "id": "87a92a23-76f9-4413-9851-64ea3b50d036",
   "metadata": {},
   "source": [
    "Q.2"
   ]
  },
  {
   "cell_type": "raw",
   "id": "e57b0240-9eac-4500-a8f9-384bdf81c112",
   "metadata": {},
   "source": [
    "*args and *kwargs makes the function flexible. *args used for number variable of non-keywarded arguments on which we perform operation of tuples.\n",
    "*kwargs used for number variable of keywarded arguments on which we perform opearation of dictionaries."
   ]
  },
  {
   "cell_type": "code",
   "execution_count": 9,
   "id": "58bfd2c1-3268-4a7c-98d0-48abd0319d4e",
   "metadata": {},
   "outputs": [],
   "source": [
    "def test1(*args):\n",
    "    return args"
   ]
  },
  {
   "cell_type": "code",
   "execution_count": 10,
   "id": "aa6b20b7-b446-462e-913c-b3d7406793b2",
   "metadata": {},
   "outputs": [
    {
     "data": {
      "text/plain": [
       "(1, 2, 3, 'sanket')"
      ]
     },
     "execution_count": 10,
     "metadata": {},
     "output_type": "execute_result"
    }
   ],
   "source": [
    "test1(1,2,3,\"sanket\")"
   ]
  },
  {
   "cell_type": "code",
   "execution_count": 14,
   "id": "08d2c563-d70a-4ac8-9f04-531059d9c4f5",
   "metadata": {},
   "outputs": [],
   "source": [
    "def test2(**kwargs):\n",
    "    return kwargs"
   ]
  },
  {
   "cell_type": "code",
   "execution_count": 16,
   "id": "479187e9-7e03-4160-9fb7-d6672ed922f8",
   "metadata": {},
   "outputs": [
    {
     "data": {
      "text/plain": [
       "{}"
      ]
     },
     "execution_count": 16,
     "metadata": {},
     "output_type": "execute_result"
    }
   ],
   "source": [
    "test2()"
   ]
  },
  {
   "cell_type": "markdown",
   "id": "9d071204-fffb-4974-a203-68ebeed3d150",
   "metadata": {},
   "source": [
    "Q.3"
   ]
  },
  {
   "cell_type": "raw",
   "id": "46df38dd-cf85-468e-b3ae-087c2bcb5285",
   "metadata": {},
   "source": [
    "An iterator in python is a object that allows user to traverse through the collection such as tuple, set. the method used to initialize iterator object is 'iter()' and the method used for iteration is 'next()'."
   ]
  },
  {
   "cell_type": "code",
   "execution_count": 17,
   "id": "4eba8865-b054-4949-81d1-66b36217d362",
   "metadata": {},
   "outputs": [
    {
     "name": "stdout",
     "output_type": "stream",
     "text": [
      "2\n",
      "4\n",
      "6\n",
      "8\n",
      "10\n"
     ]
    }
   ],
   "source": [
    "list = [2,4,6,8,10,12,14,16,18,20]\n",
    "num_iter = iter(list)\n",
    "for i in range(5):\n",
    "    print(next(num_iter))"
   ]
  },
  {
   "cell_type": "markdown",
   "id": "f03d648d-84a1-456f-aaa7-f1d57b64fdd8",
   "metadata": {},
   "source": [
    "Q.4"
   ]
  },
  {
   "cell_type": "raw",
   "id": "12d78f39-c003-428c-bb4c-68f0d2a4a803",
   "metadata": {},
   "source": [
    "A Generator function is a special type of function which is used to generate multiple values at a time using yield keyword\n",
    "yield keyword is used for genarate multiple value at a time instead of return "
   ]
  },
  {
   "cell_type": "code",
   "execution_count": 1,
   "id": "bde1e294-e93a-44b0-b67a-95dcb4032729",
   "metadata": {},
   "outputs": [],
   "source": [
    "def count_test(n):\n",
    "    count = 1\n",
    "    while count<=n:\n",
    "        yield count\n",
    "        count = count + 1"
   ]
  },
  {
   "cell_type": "code",
   "execution_count": 2,
   "id": "02236471-11bc-4ca5-a00f-e9a65e72a70d",
   "metadata": {},
   "outputs": [],
   "source": [
    "c =count_test(5)"
   ]
  },
  {
   "cell_type": "markdown",
   "id": "778365f3-1731-47f2-9611-3d23d8e27ba9",
   "metadata": {},
   "source": [
    "Q.5"
   ]
  },
  {
   "cell_type": "code",
   "execution_count": 7,
   "id": "c02c6f29-7496-4cdb-a680-075891756195",
   "metadata": {},
   "outputs": [
    {
     "name": "stdout",
     "output_type": "stream",
     "text": [
      "2\n",
      "3\n",
      "5\n",
      "7\n",
      "11\n",
      "13\n",
      "17\n",
      "19\n",
      "23\n",
      "29\n",
      "31\n",
      "37\n",
      "41\n",
      "43\n",
      "47\n",
      "53\n",
      "59\n",
      "61\n",
      "67\n",
      "71\n"
     ]
    }
   ],
   "source": [
    "def prime_numbers(start, end):\n",
    "    for num in range(start, end + 1):\n",
    "        if all(num % i != 0 for i in range(2, int(num ** 0.5) + 1)):  \n",
    "            yield num\n",
    "\n",
    "prime_numbers_iter = iter(prime_numbers(2, 1000))\n",
    "for i in range(20):\n",
    "    print(next(prime_numbers_iter))"
   ]
  },
  {
   "cell_type": "markdown",
   "id": "70fc8027-f69a-46e0-ad0a-de14ce31aef9",
   "metadata": {},
   "source": [
    "Q.6"
   ]
  },
  {
   "cell_type": "code",
   "execution_count": 10,
   "id": "bcc403d1-f26c-43af-bbd7-0f0bd347d367",
   "metadata": {},
   "outputs": [
    {
     "name": "stdout",
     "output_type": "stream",
     "text": [
      "0\n",
      "1\n",
      "1\n",
      "2\n",
      "3\n",
      "5\n",
      "8\n",
      "13\n",
      "21\n",
      "34\n"
     ]
    }
   ],
   "source": [
    "i = 1\n",
    "a,b = 0,1\n",
    "while i<=10:\n",
    "    print(a)\n",
    "    a,b = b,a+b\n",
    "    i +=1"
   ]
  },
  {
   "cell_type": "markdown",
   "id": "effcdbc2-f9cc-4e6c-9a82-c8def23da16b",
   "metadata": {},
   "source": [
    "Q.7"
   ]
  },
  {
   "cell_type": "code",
   "execution_count": 11,
   "id": "61c3e7b4-db62-4d49-880d-47f41bfb0a81",
   "metadata": {},
   "outputs": [],
   "source": [
    "string = \"pwskills\"\n",
    "l = []\n",
    "for i in string:\n",
    "    l.append(i)"
   ]
  },
  {
   "cell_type": "code",
   "execution_count": 12,
   "id": "115b323b-feb2-465c-a1ae-fac44691237f",
   "metadata": {},
   "outputs": [
    {
     "data": {
      "text/plain": [
       "['p', 'w', 's', 'k', 'i', 'l', 'l', 's']"
      ]
     },
     "execution_count": 12,
     "metadata": {},
     "output_type": "execute_result"
    }
   ],
   "source": [
    "l"
   ]
  },
  {
   "cell_type": "markdown",
   "id": "04204710-3164-4347-9706-88b75ef190a5",
   "metadata": {},
   "source": [
    "Q.8"
   ]
  },
  {
   "cell_type": "code",
   "execution_count": 14,
   "id": "8d18d7ad-2684-4516-9232-f9da27dc7e7d",
   "metadata": {},
   "outputs": [
    {
     "name": "stdin",
     "output_type": "stream",
     "text": [
      "enter a number 55\n"
     ]
    },
    {
     "name": "stdout",
     "output_type": "stream",
     "text": [
      "this is not a palindrome number\n"
     ]
    }
   ],
   "source": [
    "num = int(input(\"enter a number\"))\n",
    "reversed_num = 0\n",
    "while num !=0:\n",
    "    digit = num%10\n",
    "    reversed_num = reversed_num*10+digit\n",
    "    num = num/10\n",
    "if num == reversed_num:\n",
    "    print(\"this is a palindrome number\")\n",
    "else:\n",
    "    print(\"this is not a palindrome number\")"
   ]
  },
  {
   "cell_type": "markdown",
   "id": "c2c82fc0-a865-42be-8491-a4847137159a",
   "metadata": {},
   "source": [
    "Q.9"
   ]
  },
  {
   "cell_type": "code",
   "execution_count": 22,
   "id": "beb41c9b-5893-464e-b2e9-2fd868c503e9",
   "metadata": {},
   "outputs": [],
   "source": [
    "l = []\n",
    "for i in range(1,101):\n",
    "    if i%2 !=0:\n",
    "        l.append(i)"
   ]
  },
  {
   "cell_type": "code",
   "execution_count": 23,
   "id": "7866ed78-c284-40c9-9fd0-acac73773f86",
   "metadata": {},
   "outputs": [
    {
     "data": {
      "text/plain": [
       "[1,\n",
       " 3,\n",
       " 5,\n",
       " 7,\n",
       " 9,\n",
       " 11,\n",
       " 13,\n",
       " 15,\n",
       " 17,\n",
       " 19,\n",
       " 21,\n",
       " 23,\n",
       " 25,\n",
       " 27,\n",
       " 29,\n",
       " 31,\n",
       " 33,\n",
       " 35,\n",
       " 37,\n",
       " 39,\n",
       " 41,\n",
       " 43,\n",
       " 45,\n",
       " 47,\n",
       " 49,\n",
       " 51,\n",
       " 53,\n",
       " 55,\n",
       " 57,\n",
       " 59,\n",
       " 61,\n",
       " 63,\n",
       " 65,\n",
       " 67,\n",
       " 69,\n",
       " 71,\n",
       " 73,\n",
       " 75,\n",
       " 77,\n",
       " 79,\n",
       " 81,\n",
       " 83,\n",
       " 85,\n",
       " 87,\n",
       " 89,\n",
       " 91,\n",
       " 93,\n",
       " 95,\n",
       " 97,\n",
       " 99]"
      ]
     },
     "execution_count": 23,
     "metadata": {},
     "output_type": "execute_result"
    }
   ],
   "source": [
    "l"
   ]
  },
  {
   "cell_type": "code",
   "execution_count": null,
   "id": "fce678ff-3096-4042-b99d-daf9b4b500eb",
   "metadata": {},
   "outputs": [],
   "source": []
  }
 ],
 "metadata": {
  "kernelspec": {
   "display_name": "Python 3 (ipykernel)",
   "language": "python",
   "name": "python3"
  },
  "language_info": {
   "codemirror_mode": {
    "name": "ipython",
    "version": 3
   },
   "file_extension": ".py",
   "mimetype": "text/x-python",
   "name": "python",
   "nbconvert_exporter": "python",
   "pygments_lexer": "ipython3",
   "version": "3.10.8"
  }
 },
 "nbformat": 4,
 "nbformat_minor": 5
}
